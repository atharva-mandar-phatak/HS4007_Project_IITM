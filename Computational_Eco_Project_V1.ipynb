{
 "cells": [
  {
   "cell_type": "markdown",
   "metadata": {},
   "source": [
    "### HS4007: Computational Economics and Public Policy | Group Project\n"
   ]
  },
  {
   "cell_type": "markdown",
   "metadata": {},
   "source": [
    "Context \n",
    "\n",
    "We attempt to analyse the spatial seggregation in big citites, London for our case, how it changes over the time due to incumbent of the foreigners who sette \n",
    "Wth reference to a wikipedia article about demography of london, we see that from 1997 onwards, London has experienced a drastic change in the composition of the city's population. In 1991, 21.7% of the city was foreign born but by 2011 this had risen to 36.7%.\n",
    "This population data is in the form of races ex. Asian, White, Black etc. \n",
    "We are trying to find how, over the period of time the demograpy a region changes due to incumbent of new groups in a particular city "
   ]
  },
  {
   "cell_type": "markdown",
   "metadata": {},
   "source": [
    "Motivation\n",
    "\n",
    "Here each ethinic group will be reperesent by a agent. Thus starting off with two agents, White and 'Non-White' we see and introduction of new agent after regular intervals and observe the changing demography \n",
    "Thus an agent based multi-period model seems to be suitable as the new ethnic groups will be interacting with the exisiting groups and based on it the future settlement patterns will be observed "
   ]
  },
  {
   "cell_type": "markdown",
   "metadata": {},
   "source": [
    "Model\n",
    "\n",
    "As mentioned, each ethinic group will be assumed to be represented by agent. This may not always be true as in case when seggregation based on the income and type of job in considered, but for the sake of project we will be assuming people from the same ethinic group would always want to stay together. \n",
    "\n",
    "We have to do some more research with the choices of their action, trying to find some concrete evidece of specific facts thorugh\n",
    "research papers or surveys.\n",
    "As each agent is introduced at every regular intervals the model becomes complex, increased interaction over a period of time.\n",
    "\n",
    "\n",
    "Based on the learning from the course till now, we find Multiperiod Schelling Model ould work the best. Just the schelling model would captur the essence of the problem statement. "
   ]
  },
  {
   "cell_type": "markdown",
   "metadata": {},
   "source": [
    "We have decided to split the team in two groups:\n",
    "\n",
    "Technical Group (Coders)\n",
    "Atharva Mandar Phatak | BE21B009\n",
    "G.R Chetan Reddy | BE21B015\n",
    "This group will be involved in implement the idea thorugh the python code. \n",
    "\n",
    "Research Group \n",
    "Srijani | HS23H064\n",
    "Ambalika | HS23H043\n",
    "\n",
    "Currently we have got the ethinic distribution data but in the form of percentages. We are trying to find some charts/ maps which show the actual distribtion of the groups (Ex In one of the class slides there was a map of Mumbai showing caste distribution). If we find such data\n",
    "for London, it will help to model the agent prefrences in such a way that the graph produces resembles the actual distribution. Correlating with the borrows  of London, and major landmarks, it will help us correlate the strategies of action/ choices \n",
    "The research group will focus on finding the right data\n",
    "\n",
    "\n"
   ]
  },
  {
   "cell_type": "code",
   "execution_count": 9,
   "metadata": {},
   "outputs": [],
   "source": [
    "#Libraries to be imported \n",
    "\n",
    "import numpy as np\n",
    "import matplotlib.pyplot as plt\n",
    "import matplotlib.colors as mcolors\n",
    "import random\n",
    "\n"
   ]
  },
  {
   "cell_type": "markdown",
   "metadata": {},
   "source": [
    "Below shown are some basic function that any general Schelling model will have. Plotting functions not yet written. However the code needs to me modified to accomadate incoming agents over each time period, hence the overall Schelling model code has to be run in for loops, with new agents introducted in the 'Agent_types'"
   ]
  },
  {
   "cell_type": "code",
   "execution_count": 10,
   "metadata": {},
   "outputs": [],
   "source": [
    "#VAriables\n",
    "grid_size ,EmptyRatio = 0 , 0 \n",
    "tolerance = 0 \n",
    "Agent_types = []\n",
    "color_chart= [] #Corresponding to each agent\n",
    "#Functions to \n",
    "\n",
    "def count_same_type_neighbors(grid, x, y, agent_type):\n",
    "    neighbors = []\n",
    "    for dx in [-1, 0, 1]:\n",
    "        for dy in [-1, 0, 1]:\n",
    "            if dx == 0 and dy == 0:\n",
    "                continue  # Skip the agent itself\n",
    "            nx, ny = x + dx, y + dy\n",
    "            if 0 <= nx < grid_size and 0 <= ny < grid_size:\n",
    "                neighbors.append(grid[nx, ny])\n",
    "    same_type_count = neighbors.count(agent_type)\n",
    "    return same_type_count, len(neighbors)\n",
    "\n",
    "\n",
    "def is_satisfied(grid, x, y, tolerance):\n",
    "    agent_type = grid[x, y]\n",
    "    if agent_type is None:\n",
    "        return True  \n",
    "    same_type_count, total_neighbors = count_same_type_neighbors(grid, x, y, agent_type)\n",
    "    if total_neighbors == 0:\n",
    "        return True \n",
    "    return (same_type_count / total_neighbors) >= tolerance\n",
    "\n",
    "# Find an empty spot for an unsatisfied agent\n",
    "def find_empty_spot(grid):\n",
    "    empty_spots = list(zip(*np.where(grid == None)))\n",
    "    if empty_spots:\n",
    "        return random.choice(empty_spots)\n",
    "    return None\n",
    "\n",
    "def run_simulation(grid, tolerance, max_iterations):\n",
    "    for iteration in range(max_iterations):\n",
    "        moves = 0\n",
    "        for x in range(grid_size):\n",
    "            for y in range(grid_size):\n",
    "                if grid[x, y] is not None and not is_satisfied(grid, x, y, tolerance):\n",
    "                    empty_spot = find_empty_spot(grid)\n",
    "                    if empty_spot:\n",
    "                        grid[empty_spot[0], empty_spot[1]] = grid[x, y]\n",
    "                        grid[x, y] = None\n",
    "                        moves += 1\n",
    "        if moves == 0:  \n",
    "            break\n",
    "\n",
    "        #plot_grid(grid, f\"Final State after {iteration} Iterations\")\n",
    "    return grid, iteration + 1"
   ]
  },
  {
   "cell_type": "markdown",
   "metadata": {},
   "source": [
    "Future Aspects\n",
    "\n",
    "Over the period of time, just as the population increased, the size of the coty event expanded. Upon successfully modelling the first case, we can move on to make the model complex by increasing the grid size, decreasing the empty ratio and also changing tolerance/ agent preference due to change in human generation. We can have different reduced tolerance levels from some part  of the grid, thus agent from any race would accomodate thier, probably due to its nearness to workplace, or some place of importance within the city"
   ]
  },
  {
   "cell_type": "markdown",
   "metadata": {},
   "source": [
    "Overall our model though basedon London, can be further implemented onto other cites, and a similar tred is obsreved in case of metrocities in last 40-50 tears. Factors change will be the toleracne levels, number of agents, and the location preferences"
   ]
  },
  {
   "cell_type": "code",
   "execution_count": null,
   "metadata": {},
   "outputs": [],
   "source": []
  }
 ],
 "metadata": {
  "kernelspec": {
   "display_name": "Python 3",
   "language": "python",
   "name": "python3"
  },
  "language_info": {
   "codemirror_mode": {
    "name": "ipython",
    "version": 3
   },
   "file_extension": ".py",
   "mimetype": "text/x-python",
   "name": "python",
   "nbconvert_exporter": "python",
   "pygments_lexer": "ipython3",
   "version": "3.10.11"
  }
 },
 "nbformat": 4,
 "nbformat_minor": 2
}
